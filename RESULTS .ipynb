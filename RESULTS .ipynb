{
 "cells": [
  {
   "cell_type": "markdown",
   "id": "cdc3d2cb",
   "metadata": {},
   "source": [
    "## MODEL OUTPUTS"
   ]
  },
  {
   "cell_type": "code",
   "execution_count": null,
   "id": "8643e81a",
   "metadata": {},
   "outputs": [],
   "source": [
    "1. LINEAR REGRESSION\n",
    "    Mean: 5.037482786117751\n",
    "    Standard deviation: 1.0594382405606952\n",
    "    \n",
    "2. DECISION TREE REGRESSOR\n",
    "    Mean: 4.26120957216806\n",
    "    Standard deviation: 0.6300355635450993\n",
    "    \n",
    "3. RANDOM FOREST REGRESSOR\n",
    "    Mean: 3.3003853660756617\n",
    "    Standard deviation: 0.6458513879621545    "
   ]
  }
 ],
 "metadata": {
  "kernelspec": {
   "display_name": "Python 3",
   "language": "python",
   "name": "python3"
  },
  "language_info": {
   "codemirror_mode": {
    "name": "ipython",
    "version": 3
   },
   "file_extension": ".py",
   "mimetype": "text/x-python",
   "name": "python",
   "nbconvert_exporter": "python",
   "pygments_lexer": "ipython3",
   "version": "3.9.2"
  }
 },
 "nbformat": 4,
 "nbformat_minor": 5
}
